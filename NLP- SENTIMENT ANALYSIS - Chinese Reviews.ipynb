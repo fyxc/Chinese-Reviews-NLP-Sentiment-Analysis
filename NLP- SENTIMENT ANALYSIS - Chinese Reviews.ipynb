{
 "cells": [
  {
   "cell_type": "code",
   "execution_count": 25,
   "metadata": {
    "collapsed": true
   },
   "outputs": [],
   "source": [
    "import pandas as pd\n",
    "import numpy as np\n",
    "import os\n",
    "import re\n",
    "import jieba\n",
    "import jieba.posseg as pseg\n",
    "import matplotlib.pyplot as plt"
   ]
  },
  {
   "cell_type": "code",
   "execution_count": 26,
   "metadata": {
    "collapsed": true
   },
   "outputs": [],
   "source": [
    "data = pd.read_csv('lk_reviews_720.csv',lineterminator='\\n')"
   ]
  },
  {
   "cell_type": "code",
   "execution_count": 37,
   "metadata": {
    "collapsed": true
   },
   "outputs": [],
   "source": [
    "jieba.load_userdict(\"./user_dict/dic_marvel_movie.txt\")\n",
    "\n",
    "\n",
    "#jieba.add_word(\"\")  \n",
    "\n",
    "# stop_words_path='stopwords'\n",
    "# stopwords1 = [line.rstrip() for line in open(os.path.join(stop_words_path, '中文停用词表.txt'), 'r', encoding='utf-8')]\n",
    "# stopwords2 = [line.rstrip() for line in open(os.path.join(stop_words_path, '哈工大停用词表.txt'), 'r', encoding='utf-8')]\n",
    "# stopwords3 = [line.rstrip() for line in open(os.path.join(stop_words_path, '四川大学机器智能实验室停用词库.txt'), 'r', encoding='utf-8')]\n",
    "# stopwords4 = [line.rstrip() for line in open(os.path.join(stop_words_path, '百度停用词表.txt'), 'r', encoding='utf-8')]\n",
    "\n",
    "\n",
    "\n",
    "\n",
    "\n"
   ]
  },
  {
   "cell_type": "markdown",
   "metadata": {},
   "source": [
    "# try to use pkuseg which has a higher accuracy but much slower than jieba\n",
    "\n",
    "def proc_text(raw_line):\n",
    "    \"\"\"\n",
    "        process texts\n",
    "        return words\n",
    "        Use pkuseg to split the word. take longer time than jieba but more accurate\n",
    "    \"\"\"\n",
    "\n",
    "     1. filter and keep Chinese characters only\n",
    "    \n",
    "    filter_pattern = re.compile('[^\\u4E00-\\u9FD5]+')\n",
    "    chinese_only = filter_pattern.sub('', raw_line)\n",
    "\n",
    "     2. segmentation with Pkuseg and part-of-speech tagging\n",
    "    #detailed explaination for pkuseg: https://github.com/lancopku/pkuseg-python\n",
    "    \n",
    "    seg = pkuseg.pkuseg() # use the default model, and mark postag\n",
    "    word_list = seg.cut(chinese_only)\n",
    "    \n",
    "     3. delete stopwords and \n",
    "     only keep verbs,adjectives, adverbs, nouns, names, idioms, numbers, and places\n",
    "    \n",
    "    used_flags = ['v', 'a', 'ad','n','nr','i','m','ns']\n",
    "    meaninful_words = []\n",
    "    for word in word_list:\n",
    "        if word not in stopwords:\n",
    "            meaninful_words.append(word)\n",
    "    return ' '.join(meaninful_words)"
   ]
  },
  {
   "cell_type": "code",
   "execution_count": 38,
   "metadata": {
    "collapsed": true
   },
   "outputs": [],
   "source": [
    " #  covert stop words txt to python dictionary {} to increase the efficiency\n",
    "stopwords = {}\n",
    "fstop = open('./user_dict/user_stopword.txt', 'r')\n",
    "for eachWord in fstop:\n",
    "    stopwords[eachWord.strip()] = eachWord.strip()\n",
    "fstop.close()"
   ]
  },
  {
   "cell_type": "code",
   "execution_count": 1,
   "metadata": {},
   "outputs": [],
   "source": [
    "data"
   ]
  },
  {
   "cell_type": "code",
   "execution_count": 40,
   "metadata": {
    "collapsed": true
   },
   "outputs": [],
   "source": [
    "def proc_text(raw_line):\n",
    "    \"\"\"\n",
    "        process texts\n",
    "        return words\n",
    "    \"\"\"\n",
    "\n",
    "    #  filter and keep Chinese characters only\n",
    "    filter_pattern = re.compile('[^\\u4E00-\\u9FD5]+')\n",
    "    chinese_only = filter_pattern.sub('', str(raw_line))\n",
    "\n",
    "    #  segmentation with jieba and part-of-speech tagging\n",
    "    word_list = pseg.cut(chinese_only)\n",
    "\n",
    "    #  delete stopwords and \n",
    "    # only keep verbs,adjectives, adverbs, nouns, names, idioms, numbers, and places\n",
    "    used_flags = ['v', 'a', 'd','ad','n','nr','i','m','ns']\n",
    "    meaninful_words = []\n",
    "    for word,flag in word_list:\n",
    "        if (word not in stopwords) and (flag in used_flags):\n",
    "            meaninful_words.append(word)\n",
    "    return ' '.join(meaninful_words)"
   ]
  },
  {
   "cell_type": "code",
   "execution_count": 41,
   "metadata": {
    "collapsed": true
   },
   "outputs": [],
   "source": [
    "data['words'] = data['Content'].apply(proc_text)"
   ]
  },
  {
   "cell_type": "code",
   "execution_count": null,
   "metadata": {
    "collapsed": true
   },
   "outputs": [],
   "source": []
  },
  {
   "cell_type": "code",
   "execution_count": 42,
   "metadata": {
    "collapsed": true
   },
   "outputs": [],
   "source": [
    "seg_rows=[]\n",
    "for i in range(0,len(data)):\n",
    "    rowi=data['words'][i]\n",
    "    seg_rows.append(rowi)\n",
    "seg_rows=[item.split() for item in seg_rows]\n",
    "seg_rows=[item for sublist in seg_rows for item in sublist]"
   ]
  },
  {
   "cell_type": "code",
   "execution_count": 3,
   "metadata": {},
   "outputs": [],
   "source": [
    "seg_rows"
   ]
  },
  {
   "cell_type": "code",
   "execution_count": 44,
   "metadata": {
    "collapsed": true
   },
   "outputs": [],
   "source": [
    "gram_list= list(set(seg_rows))\n",
    "gram_dict= {key:0 for key in gram_list if len(key) > 1}\n",
    "#count the occurence\n",
    "for key in gram_dict:\n",
    "    for cont in data['Content']:\n",
    "        try:\n",
    "            if key in cont:\n",
    "                gram_dict[key] += 1\n",
    "        except:\n",
    "            pass"
   ]
  },
  {
   "cell_type": "code",
   "execution_count": 53,
   "metadata": {
    "collapsed": true
   },
   "outputs": [],
   "source": [
    "#customization 2\n",
    "#grouping words that mean the same thing together\n",
    "group1=[]\n",
    "group2 = []\n",
    "group3 = []\n",
    "group4 = []\n",
    "group5 = []\n",
    "group6 = []\n",
    "group7 = []\n",
    "for k in list(gram_dict):\n",
    "    if k in group1:\n",
    "\n",
    "        gram_dict[]+=gram_dict[k]\n",
    "        gram_dict.pop(k, None)\n",
    "    elif k in group2:\n",
    "        gram_dict[]+=gram_dict[k]\n",
    "        gram_dict.pop(k, None)\n",
    "    elif k in group3:\n",
    "        gram_dict[]+=gram_dict[k]\n",
    "        gram_dict.pop(k, None)\n",
    "    elif k in group4:\n",
    "        gram_dict[]+=gram_dict[k]\n",
    "        gram_dict.pop(k, None)\n",
    "    elif k in group5:\n",
    "        gram_dict[]+=gram_dict[k]\n",
    "        gram_dict.pop(k, None)\n",
    "    else:\n",
    "        pass\n",
    "\n"
   ]
  },
  {
   "cell_type": "code",
   "execution_count": 54,
   "metadata": {
    "collapsed": true
   },
   "outputs": [],
   "source": [
    "ngram_df= pd.DataFrame(list(gram_dict.items()), columns=['N_Gram','Frequency'])"
   ]
  },
  {
   "cell_type": "code",
   "execution_count": 7,
   "metadata": {},
   "outputs": [],
   "source": [
    "ngram_df.sort_values(by='Frequency',ascending=False)"
   ]
  },
  {
   "cell_type": "code",
   "execution_count": 56,
   "metadata": {
    "collapsed": true
   },
   "outputs": [],
   "source": [
    "ngram_sorted=ngram_df.sort_values(by='Frequency',ascending=False)"
   ]
  },
  {
   "cell_type": "code",
   "execution_count": 11,
   "metadata": {},
   "outputs": [],
   "source": [
    "import matplotlib.pyplot as plt\n",
    "%matplotlib inline\n",
    "import matplotlib\n",
    "matplotlib.rcParams['figure.figsize'] = (10.0, 5.0)\n",
    "from wordcloud import WordCloud\n",
    "\n",
    "wordcloud=WordCloud(font_path=\"SimHei.ttf\",background_color=\"white\",max_font_size=80)\n",
    "word_frequence = {x[0]:x[1] for x in ngram_sorted.head(100).values}\n",
    "wordcloud=wordcloud.fit_words(word_frequence)\n",
    "plt.imshow(wordcloud)"
   ]
  },
  {
   "cell_type": "code",
   "execution_count": 9,
   "metadata": {},
   "outputs": [],
   "source": [
    "ngram_sorted.to_csv('review_word_count.csv')"
   ]
  },
  {
   "cell_type": "code",
   "execution_count": null,
   "metadata": {
    "collapsed": true
   },
   "outputs": [],
   "source": []
  }
 ],
 "metadata": {
  "kernelspec": {
   "display_name": "Python 3",
   "language": "python",
   "name": "python3"
  },
  "language_info": {
   "codemirror_mode": {
    "name": "ipython",
    "version": 3
   },
   "file_extension": ".py",
   "mimetype": "text/x-python",
   "name": "python",
   "nbconvert_exporter": "python",
   "pygments_lexer": "ipython3",
   "version": "3.6.3"
  }
 },
 "nbformat": 4,
 "nbformat_minor": 2
}
